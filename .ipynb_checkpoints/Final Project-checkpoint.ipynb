{
 "cells": [
  {
   "cell_type": "markdown",
   "metadata": {},
   "source": [
    "**Flying High and Flying Low: Budget and Charter Flights at San Francisco International Airport**\n",
    "\n",
    "This project examines two datasets from the San Francisco open data portal: [Air Traffic Landings Statistics](https://data.sfgov.org/Transportation/Air-Traffic-Landings-Statistics/fpux-q53t) and [Air Traffic Passenger Statistics](https://data.sfgov.org/Transportation/Air-Traffic-Passenger-Statistics/rkru-6vcg) in order to determine how changing income inequality in the Bay Area has impacted the prevalence of budget vs. charter airlines at SFO. This story asks four main questions:\n",
    "1. Has the number of budget flights increased or decreased with time?\n",
    "2. Has the number of charter flights increased or decreased with time?\n",
    "3. Has the number of passengers flying via budget airlines increased or decreased with time?\n",
    "4. Has the number of passengers flying via charter airlines increased or decreased with time?\n",
    "\n",
    "The [Air Traffic Landings Statistics](https://data.sfgov.org/Transportation/Air-Traffic-Landings-Statistics/fpux-q53t) dataset contains monthly information about how many flights a specific airline is operating. I used this dataset to answer research questions 1 and 2.\n",
    "\n",
    "The [Air Traffic Passenger Statistics](https://data.sfgov.org/Transportation/Air-Traffic-Passenger-Statistics/rkru-6vcg) dataset contains monthly information about how many passengers a specific airline is transporting. I used this dataset to answer research questions 3 and 4.\n",
    "\n",
    "**Results:**\n",
    "1. I found that the number of budget flights as well as the number of passengers flying via budget flights has decreased.\n",
    "2. I found that the number of charter flights as well as the number of passengers flying via charter flights has increased.\n",
    "\n",
    "Because the airport has limited space, the allocation of that space to individual flights can reflect local priorities. More and more of SFO's space is being allocated to chartered flights over budget flights, which reflects San Francisco's growing wealth inequality. As the technology industry funnels more and more wealth into the Bay Area, the wealthy patrons of charter airlines are better able to exploit the limited resources at SFO than the less wealthy patrons of budget airlines.\n",
    "\n",
    "**Methodology**\n",
    "1. Manual Creation of a List of Budget and Charter Airlines\n",
    "\n",
    "In order to get a comprehensive list of the airlines at SFO, I used four datasets available on the San Francisco open data portal: [Air Traffic Landings Statistics](https://data.sfgov.org/Transportation/Air-Traffic-Landings-Statistics/fpux-q53t), [Air Traffic Passenger Statistics](https://data.sfgov.org/Transportation/Air-Traffic-Passenger-Statistics/rkru-6vcg), [Aircraft Parking Activity Records at SFO](https://data.sfgov.org/Transportation/Aircraft-Parking-Activity-Records-at-SFO/5rkh-waic), and [Aircraft Tail Numbers and Models at SFO](https://data.sfgov.org/Transportation/Aircraft-Tail-Numbers-and-Models-at-SFO/u7dr-xm3v). Each entry in the datasets lists an airline, and I aggregated the unique entries in each dataset to obtain a comprehensive look at every known airline operating out of the airport. Lastly, for each unique airline, I tagged the ones that were charter or budget airlines. For a peek at that database, see below:"
   ]
  },
  {
   "cell_type": "code",
   "execution_count": 4,
   "metadata": {},
   "outputs": [
    {
     "data": {
      "text/html": [
       "<div>\n",
       "<style scoped>\n",
       "    .dataframe tbody tr th:only-of-type {\n",
       "        vertical-align: middle;\n",
       "    }\n",
       "\n",
       "    .dataframe tbody tr th {\n",
       "        vertical-align: top;\n",
       "    }\n",
       "\n",
       "    .dataframe thead th {\n",
       "        text-align: right;\n",
       "    }\n",
       "</style>\n",
       "<table border=\"1\" class=\"dataframe\">\n",
       "  <thead>\n",
       "    <tr style=\"text-align: right;\">\n",
       "      <th></th>\n",
       "      <th>Airline</th>\n",
       "      <th>Charter?</th>\n",
       "      <th>Low Cost?</th>\n",
       "    </tr>\n",
       "  </thead>\n",
       "  <tbody>\n",
       "    <tr>\n",
       "      <th>0</th>\n",
       "      <td>ATA Airlines</td>\n",
       "      <td>False</td>\n",
       "      <td>True</td>\n",
       "    </tr>\n",
       "    <tr>\n",
       "      <th>1</th>\n",
       "      <td>AirTran Airways</td>\n",
       "      <td>False</td>\n",
       "      <td>True</td>\n",
       "    </tr>\n",
       "    <tr>\n",
       "      <th>2</th>\n",
       "      <td>Frontier Airlines</td>\n",
       "      <td>False</td>\n",
       "      <td>True</td>\n",
       "    </tr>\n",
       "    <tr>\n",
       "      <th>3</th>\n",
       "      <td>Independence Air</td>\n",
       "      <td>False</td>\n",
       "      <td>True</td>\n",
       "    </tr>\n",
       "    <tr>\n",
       "      <th>4</th>\n",
       "      <td>Sun Country Airlines</td>\n",
       "      <td>False</td>\n",
       "      <td>True</td>\n",
       "    </tr>\n",
       "    <tr>\n",
       "      <th>5</th>\n",
       "      <td>Miami Air International</td>\n",
       "      <td>True</td>\n",
       "      <td>False</td>\n",
       "    </tr>\n",
       "    <tr>\n",
       "      <th>6</th>\n",
       "      <td>Spirit Airlines</td>\n",
       "      <td>False</td>\n",
       "      <td>True</td>\n",
       "    </tr>\n",
       "    <tr>\n",
       "      <th>7</th>\n",
       "      <td>Xtra Airways</td>\n",
       "      <td>True</td>\n",
       "      <td>False</td>\n",
       "    </tr>\n",
       "    <tr>\n",
       "      <th>8</th>\n",
       "      <td>Allegiant Air</td>\n",
       "      <td>False</td>\n",
       "      <td>True</td>\n",
       "    </tr>\n",
       "    <tr>\n",
       "      <th>9</th>\n",
       "      <td>Air Berlin</td>\n",
       "      <td>False</td>\n",
       "      <td>True</td>\n",
       "    </tr>\n",
       "  </tbody>\n",
       "</table>\n",
       "</div>"
      ],
      "text/plain": [
       "                   Airline  Charter?  Low Cost?\n",
       "0             ATA Airlines     False       True\n",
       "1          AirTran Airways     False       True\n",
       "2        Frontier Airlines     False       True\n",
       "3         Independence Air     False       True\n",
       "4     Sun Country Airlines     False       True\n",
       "5  Miami Air International      True      False\n",
       "6          Spirit Airlines     False       True\n",
       "7             Xtra Airways      True      False\n",
       "8            Allegiant Air     False       True\n",
       "9               Air Berlin     False       True"
      ]
     },
     "execution_count": 4,
     "metadata": {},
     "output_type": "execute_result"
    }
   ],
   "source": [
    "import pandas as pd\n",
    "budget_vs_charter_airlines = 'data/raw/charter_and_budget_airlines.csv'\n",
    "airlines = pd.read_csv(budget_vs_charter_airlines)\n",
    "airlines.head(10)"
   ]
  },
  {
   "cell_type": "markdown",
   "metadata": {},
   "source": [
    "From there, I created a list of every budget airline and every charter airline operating out of SFO.\n",
    "\n",
    "2. Scripted cleaning of [Air Traffic Landings Statistics](https://data.sfgov.org/Transportation/Air-Traffic-Landings-Statistics/fpux-q53t) and [Air Traffic Passenger Statistics](https://data.sfgov.org/Transportation/Air-Traffic-Passenger-Statistics/rkru-6vcg) databases\n",
    "\n",
    "I filtered the two databases using the two lists for chartered and budget airlines in order to create four databases: Budget Airline Landings, Charter Airline Landings, Budget Airline Passengers, and Charter Airline Passengers."
   ]
  },
  {
   "cell_type": "code",
   "execution_count": 5,
   "metadata": {},
   "outputs": [
    {
     "name": "stdout",
     "output_type": "stream",
     "text": [
      "this is a placeholder for a peek at all those graphs\n"
     ]
    }
   ],
   "source": [
    "print(\"this is a placeholder for a peek at all those graphs\")"
   ]
  },
  {
   "cell_type": "code",
   "execution_count": null,
   "metadata": {},
   "outputs": [],
   "source": []
  }
 ],
 "metadata": {
  "kernelspec": {
   "display_name": "Python 3",
   "language": "python",
   "name": "python3"
  },
  "language_info": {
   "codemirror_mode": {
    "name": "ipython",
    "version": 3
   },
   "file_extension": ".py",
   "mimetype": "text/x-python",
   "name": "python",
   "nbconvert_exporter": "python",
   "pygments_lexer": "ipython3",
   "version": "3.7.0"
  }
 },
 "nbformat": 4,
 "nbformat_minor": 4
}
