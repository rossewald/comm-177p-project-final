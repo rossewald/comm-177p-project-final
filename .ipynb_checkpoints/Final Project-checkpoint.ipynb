{
 "cells": [
  {
   "cell_type": "markdown",
   "metadata": {},
   "source": [
    "**Flying High and Flying Low: Budget and Charter Flights at San Francisco International Airport**\n",
    "\n",
    "This project examines two datasets from the San Francisco open data portal: [Air Traffic Landings Statistics](https://data.sfgov.org/Transportation/Air-Traffic-Landings-Statistics/fpux-q53t) and [Air Traffic Passenger Statistics](https://data.sfgov.org/Transportation/Air-Traffic-Passenger-Statistics/rkru-6vcg) in order to determine how changing income inequality in the Bay Area has impacted the prevalence of budget vs. charter airlines at SFO. This story asks four main questions:\n",
    "1. Has the number of budget flights increased or decreased with time?\n",
    "2. Has the number of charter flights increased or decreased with time?\n",
    "3. Has the number of passengers flying via budget airlines increased or decreased with time?\n",
    "4. Has the number of passengers flying via charter airlines increased or decreased with time?\n",
    "\n",
    "The [Air Traffic Landings Statistics](https://data.sfgov.org/Transportation/Air-Traffic-Landings-Statistics/fpux-q53t) dataset contains monthly information about how many flights a specific airline is operating. I used this dataset to answer research questions 1 and 2.\n",
    "\n",
    "The [Air Traffic Passenger Statistics](https://data.sfgov.org/Transportation/Air-Traffic-Passenger-Statistics/rkru-6vcg) dataset contains monthly information about how many passengers a specific airline is transporting. I used this dataset to answer research questions 3 and 4.\n",
    "\n",
    "**Results:**\n",
    "1. I found that the number of budget flights as well as the number of passengers flying via budget flights has decreased.\n",
    "2. I found that the number of charter flights as well as the number of passengers flying via charter flights has increased.\n",
    "\n",
    "Because the airport has limited space, the allocation of that space to individual flights can reflect local priorities. More and more of SFO's space is being allocated to chartered flights over budget flights, which reflects San Francisco's growing wealth inequality. As the technology industry funnels more and more wealth into the Bay Area, the wealthy patrons of charter airlines are better able to exploit the limited resources at SFO than the less wealthy patrons of budget airlines.\n",
    "\n",
    "**Methodology**\n",
    "1. Manual Creation of a List of Budget and Charter Airlines\n",
    "\n",
    "In order to get a comprehensive list of the airlines at SFO, I used four datasets available on the San Francisco open data portal: [Air Traffic Landings Statistics](https://data.sfgov.org/Transportation/Air-Traffic-Landings-Statistics/fpux-q53t), [Air Traffic Passenger Statistics](https://data.sfgov.org/Transportation/Air-Traffic-Passenger-Statistics/rkru-6vcg), [Aircraft Parking Activity Records at SFO](https://data.sfgov.org/Transportation/Aircraft-Parking-Activity-Records-at-SFO/5rkh-waic), and [Aircraft Tail Numbers and Models at SFO](https://data.sfgov.org/Transportation/Aircraft-Tail-Numbers-and-Models-at-SFO/u7dr-xm3v). Each entry in the datasets lists an airline, and I aggregated the unique entries in each dataset to obtain a comprehensive look at every known airline operating out of the airport. Then, I "
   ]
  },
  {
   "cell_type": "code",
   "execution_count": null,
   "metadata": {},
   "outputs": [],
   "source": []
  }
 ],
 "metadata": {
  "kernelspec": {
   "display_name": "Python 3",
   "language": "python",
   "name": "python3"
  },
  "language_info": {
   "codemirror_mode": {
    "name": "ipython",
    "version": 3
   },
   "file_extension": ".py",
   "mimetype": "text/x-python",
   "name": "python",
   "nbconvert_exporter": "python",
   "pygments_lexer": "ipython3",
   "version": "3.7.0"
  }
 },
 "nbformat": 4,
 "nbformat_minor": 4
}
