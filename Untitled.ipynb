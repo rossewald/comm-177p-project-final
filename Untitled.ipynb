{
 "cells": [
  {
   "cell_type": "markdown",
   "metadata": {},
   "source": [
    "**Flying High and Low: Budget and Charter Flights at San Francisco International Airport**\n",
    "\n",
    "This project examines two datasets from the San Francisco open data portal: [Air Traffic Landings Statistics](https://data.sfgov.org/Transportation/Air-Traffic-Landings-Statistics/fpux-q53t) and [Air Traffic Passenger Statistics](https://data.sfgov.org/Transportation/Air-Traffic-Passenger-Statistics/rkru-6vcg) in order to determine how changing income inequality in the Bay Area has impacted the prevalence of budget vs. charter airlines at SFO. This story asks four main questions:\n",
    "1. Has the number of budget flights increased or decreased with time?\n",
    "2. Has the number of charter flights increased or decreased with time?\n",
    "3. Has the number of passengers flying via budget airlines increased or decreased with time?\n",
    "4. Has the number of passengers flying via charter airlines increased or decreased with time?\n"
   ]
  },
  {
   "cell_type": "code",
   "execution_count": null,
   "metadata": {},
   "outputs": [],
   "source": []
  }
 ],
 "metadata": {
  "kernelspec": {
   "display_name": "Python 3",
   "language": "python",
   "name": "python3"
  },
  "language_info": {
   "codemirror_mode": {
    "name": "ipython",
    "version": 3
   },
   "file_extension": ".py",
   "mimetype": "text/x-python",
   "name": "python",
   "nbconvert_exporter": "python",
   "pygments_lexer": "ipython3",
   "version": "3.7.0"
  }
 },
 "nbformat": 4,
 "nbformat_minor": 4
}
